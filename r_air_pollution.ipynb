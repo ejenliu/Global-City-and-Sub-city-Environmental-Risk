{
 "cells": [
  {
   "cell_type": "code",
   "execution_count": 2,
   "metadata": {},
   "outputs": [],
   "source": [
    "import arcpy\n",
    "import os"
   ]
  },
  {
   "cell_type": "code",
   "execution_count": 8,
   "metadata": {},
   "outputs": [],
   "source": [
    "folder_tif = r\"G:\\CASA\\output_rasters\\pm2.5_rasters_annual\\annual_pollution_tif\"\n",
    "arcpy.env.workspace = folder_tif\n",
    "original_tif = arcpy.ListRasters(\"*.tif\")"
   ]
  },
  {
   "cell_type": "code",
   "execution_count": 9,
   "metadata": {},
   "outputs": [
    {
     "data": {
      "text/plain": [
       "['2012.tif',\n",
       " '2013.tif',\n",
       " '2014.tif',\n",
       " '2015.tif',\n",
       " '2016.tif',\n",
       " '2017.tif',\n",
       " '2018.tif',\n",
       " '2019.tif',\n",
       " '2020.tif',\n",
       " '2021.tif',\n",
       " '2022.tif']"
      ]
     },
     "execution_count": 9,
     "metadata": {},
     "output_type": "execute_result"
    }
   ],
   "source": [
    "original_tif"
   ]
  },
  {
   "cell_type": "code",
   "execution_count": 4,
   "metadata": {},
   "outputs": [
    {
     "name": "stdout",
     "output_type": "stream",
     "text": [
      "Processed: 2012.tif\n",
      "Processed: 2013.tif\n",
      "Processed: 2014.tif\n",
      "Processed: 2015.tif\n",
      "Processed: 2016.tif\n",
      "Processed: 2017.tif\n",
      "Processed: 2018.tif\n",
      "Processed: 2019.tif\n",
      "Processed: 2020.tif\n",
      "Processed: 2021.tif\n",
      "Processed: 2022.tif\n",
      "All TIFF files processed.\n"
     ]
    }
   ],
   "source": [
    "#Create binary rasters using threshold > 5\n",
    "import arcpy\n",
    "from arcpy.sa import *\n",
    "\n",
    "# Define the threshold\n",
    "threshold = 5\n",
    "\n",
    "# Iterate through each TIFF file\n",
    "for tif_file in annual_pollution_tif:\n",
    "    # Define input and output paths\n",
    "    input_tif = arcpy.Raster(tif_file)\n",
    "    output_tif = f\"{tif_file[:-4]}_binary5.tif\"  # Modify output file name as needed\n",
    "\n",
    "    # Apply binary classification\n",
    "    binary_raster = Con(input_tif > threshold, 1, 0)\n",
    "\n",
    "    # Save the binary raster\n",
    "    binary_raster.save(output_tif)\n",
    "\n",
    "    print(f\"Processed: {tif_file}\")\n",
    "\n",
    "print(\"All TIFF files processed.\")"
   ]
  },
  {
   "cell_type": "code",
   "execution_count": 5,
   "metadata": {},
   "outputs": [],
   "source": [
    "#Count number of times threshold is exceeded for each pixel across years 2012-2022\n",
    "folder_tif = r\"G:\\CASA\\output_rasters\\pm2.5_rasters_annual\"\n",
    "arcpy.env.workspace = folder_tif\n",
    "binary_5 = arcpy.ListRasters(\"*binary5.tif\")"
   ]
  },
  {
   "cell_type": "code",
   "execution_count": 6,
   "metadata": {},
   "outputs": [],
   "source": [
    "# Initialize a list to hold the binary raster objects\n",
    "binary5_rasters = []\n",
    "\n",
    "# Iterate through each binary TIFF file\n",
    "for binary_tif in binary_5:\n",
    "    # Create binary raster object\n",
    "    binary_raster = arcpy.Raster(binary_tif)\n",
    "    binary5_rasters.append(binary_raster)"
   ]
  },
  {
   "cell_type": "code",
   "execution_count": 8,
   "metadata": {},
   "outputs": [
    {
     "name": "stdout",
     "output_type": "stream",
     "text": [
      "Stacked raster saved successfully.\n"
     ]
    }
   ],
   "source": [
    "# Stack the binary rasters to create a multi-dimensional raster object\n",
    "stacked_raster = arcpy.sa.CellStatistics(binary5_rasters, \"SUM\", \"DATA\")\n",
    "\n",
    "# Save the stacked raster\n",
    "output_path = r\"G:\\CASA\\output_rasters\\pm2.5_rasters_annual\\stacked_binary_5_sum.tif\"\n",
    "stacked_raster.save(output_path)\n",
    "\n",
    "print(\"Stacked raster saved successfully.\")"
   ]
  },
  {
   "cell_type": "code",
   "execution_count": 9,
   "metadata": {},
   "outputs": [
    {
     "name": "stdout",
     "output_type": "stream",
     "text": [
      "Processed: 2012.tif\n",
      "Processed: 2013.tif\n",
      "Processed: 2014.tif\n",
      "Processed: 2015.tif\n",
      "Processed: 2016.tif\n",
      "Processed: 2017.tif\n",
      "Processed: 2018.tif\n",
      "Processed: 2019.tif\n",
      "Processed: 2020.tif\n",
      "Processed: 2021.tif\n",
      "Processed: 2022.tif\n",
      "All TIFF files processed.\n"
     ]
    }
   ],
   "source": [
    "#Create binary rasters using threshold > 10\n",
    "import arcpy\n",
    "from arcpy.sa import *\n",
    "\n",
    "# Define the threshold\n",
    "threshold_10 = 10\n",
    "\n",
    "# Iterate through each TIFF file\n",
    "for tif_file in annual_pollution_tif:\n",
    "    # Define input and output paths\n",
    "    input_tif = arcpy.Raster(tif_file)\n",
    "    output_tif = f\"{tif_file[:-4]}_binary10.tif\"  # Modify output file name as needed\n",
    "\n",
    "    # Apply binary classification\n",
    "    binary_raster = Con(input_tif > threshold_10, 1, 0)\n",
    "\n",
    "    # Save the binary raster\n",
    "    binary_raster.save(output_tif)\n",
    "\n",
    "    print(f\"Processed: {tif_file}\")\n",
    "\n",
    "print(\"All TIFF files processed.\")"
   ]
  },
  {
   "cell_type": "code",
   "execution_count": 7,
   "metadata": {},
   "outputs": [],
   "source": [
    "#Count number of times threshold is exceeded for each pixel across years 2012-2022\n",
    "folder_tif = r\"G:\\CASA\\output_rasters\\pm2.5_rasters_annual\"\n",
    "arcpy.env.workspace = folder_tif\n",
    "binary_10 = arcpy.ListRasters(\"*binary10.tif\")"
   ]
  },
  {
   "cell_type": "code",
   "execution_count": 8,
   "metadata": {},
   "outputs": [
    {
     "data": {
      "text/plain": [
       "['2012_binary10.tif',\n",
       " '2013_binary10.tif',\n",
       " '2014_binary10.tif',\n",
       " '2015_binary10.tif',\n",
       " '2016_binary10.tif',\n",
       " '2017_binary10.tif',\n",
       " '2018_binary10.tif',\n",
       " '2019_binary10.tif',\n",
       " '2020_binary10.tif',\n",
       " '2021_binary10.tif',\n",
       " '2022_binary10.tif']"
      ]
     },
     "execution_count": 8,
     "metadata": {},
     "output_type": "execute_result"
    }
   ],
   "source": [
    "binary_10"
   ]
  },
  {
   "cell_type": "code",
   "execution_count": 9,
   "metadata": {},
   "outputs": [],
   "source": [
    "# Initialize a list to hold the binary raster objects\n",
    "binary10_rasters = []\n",
    "\n",
    "# Iterate through each binary TIFF file\n",
    "for binary_tif in binary_10:\n",
    "    # Create binary raster object\n",
    "    binary10_raster = arcpy.Raster(binary_tif)\n",
    "    binary10_rasters.append(binary10_raster)"
   ]
  },
  {
   "cell_type": "code",
   "execution_count": 10,
   "metadata": {},
   "outputs": [
    {
     "data": {
      "text/plain": [
       "[2012_binary10.tif,\n",
       " 2013_binary10.tif,\n",
       " 2014_binary10.tif,\n",
       " 2015_binary10.tif,\n",
       " 2016_binary10.tif,\n",
       " 2017_binary10.tif,\n",
       " 2018_binary10.tif,\n",
       " 2019_binary10.tif,\n",
       " 2020_binary10.tif,\n",
       " 2021_binary10.tif,\n",
       " 2022_binary10.tif]"
      ]
     },
     "execution_count": 10,
     "metadata": {},
     "output_type": "execute_result"
    }
   ],
   "source": [
    "binary10_rasters"
   ]
  },
  {
   "cell_type": "code",
   "execution_count": 12,
   "metadata": {},
   "outputs": [
    {
     "name": "stdout",
     "output_type": "stream",
     "text": [
      "Stacked raster saved successfully.\n"
     ]
    }
   ],
   "source": [
    "# Stack the binary rasters to create a multi-dimensional raster object\n",
    "stacked_raster_10 = arcpy.sa.CellStatistics(binary10_rasters, \"SUM\", \"DATA\")\n",
    "\n",
    "# Save the stacked raster\n",
    "output_path = r\"G:\\CASA\\output_rasters\\pm2.5_rasters_annual\\stacked_binary_10_sum.tif\"\n",
    "stacked_raster_10.save(output_path)\n",
    "\n",
    "print(\"Stacked raster saved successfully.\")"
   ]
  },
  {
   "cell_type": "code",
   "execution_count": 13,
   "metadata": {},
   "outputs": [
    {
     "name": "stdout",
     "output_type": "stream",
     "text": [
      "Processed: 2012.tif\n",
      "Processed: 2013.tif\n",
      "Processed: 2014.tif\n",
      "Processed: 2015.tif\n",
      "Processed: 2016.tif\n",
      "Processed: 2017.tif\n",
      "Processed: 2018.tif\n",
      "Processed: 2019.tif\n",
      "Processed: 2020.tif\n",
      "Processed: 2021.tif\n",
      "Processed: 2022.tif\n",
      "All TIFF files processed.\n"
     ]
    }
   ],
   "source": [
    "#Create binary rasters using threshold > 15\n",
    "import arcpy\n",
    "from arcpy.sa import *\n",
    "\n",
    "annual_pollution_tif = r\"G:\\CASA\\output_rasters\\pm2.5_rasters_annual\"\n",
    "arcpy.env.workspace = folder_tif\n",
    "binary_5 = arcpy.ListRasters(\"*binary5.tif\")"
   ]
  },
  {
   "cell_type": "code",
   "execution_count": null,
   "metadata": {},
   "outputs": [],
   "source": [
    "# Define the threshold\n",
    "threshold_15 = 15\n",
    "\n",
    "# Iterate through each TIFF file\n",
    "for tif_file in annual_pollution_tif:\n",
    "    # Define input and output paths\n",
    "    input_tif = arcpy.Raster(tif_file)\n",
    "    output_tif = f\"{tif_file[:-4]}_binary15.tif\"  # Modify output file name as needed\n",
    "\n",
    "    # Apply binary classification\n",
    "    binary_raster = Con(input_tif > threshold_15, 1, 0)\n",
    "\n",
    "    # Save the binary raster\n",
    "    binary_raster.save(output_tif)\n",
    "\n",
    "    print(f\"Processed: {tif_file}\")\n",
    "\n",
    "print(\"All TIFF files processed.\")"
   ]
  },
  {
   "cell_type": "code",
   "execution_count": 13,
   "metadata": {},
   "outputs": [],
   "source": [
    "#Count number of times threshold is exceeded for each pixel across years 2012-2022\n",
    "folder_tif = r\"G:\\CASA\\output_rasters\\pm2.5_rasters_annual\"\n",
    "arcpy.env.workspace = folder_tif\n",
    "binary_15 = arcpy.ListRasters(\"*binary15.tif\")"
   ]
  },
  {
   "cell_type": "code",
   "execution_count": 14,
   "metadata": {},
   "outputs": [
    {
     "data": {
      "text/plain": [
       "['2012_binary15.tif',\n",
       " '2013_binary15.tif',\n",
       " '2014_binary15.tif',\n",
       " '2015_binary15.tif',\n",
       " '2016_binary15.tif',\n",
       " '2017_binary15.tif',\n",
       " '2018_binary15.tif',\n",
       " '2019_binary15.tif',\n",
       " '2020_binary15.tif',\n",
       " '2021_binary15.tif',\n",
       " '2022_binary15.tif']"
      ]
     },
     "execution_count": 14,
     "metadata": {},
     "output_type": "execute_result"
    }
   ],
   "source": [
    "binary_15"
   ]
  },
  {
   "cell_type": "code",
   "execution_count": 15,
   "metadata": {},
   "outputs": [],
   "source": [
    "# Initialize a list to hold the binary raster objects\n",
    "binary15_rasters = []\n",
    "\n",
    "# Iterate through each binary TIFF file\n",
    "for binary_tif in binary_15:\n",
    "    # Create binary raster object\n",
    "    binary15_raster = arcpy.Raster(binary_tif)\n",
    "    binary15_rasters.append(binary15_raster)"
   ]
  },
  {
   "cell_type": "code",
   "execution_count": 16,
   "metadata": {},
   "outputs": [
    {
     "data": {
      "text/plain": [
       "[2012_binary15.tif,\n",
       " 2013_binary15.tif,\n",
       " 2014_binary15.tif,\n",
       " 2015_binary15.tif,\n",
       " 2016_binary15.tif,\n",
       " 2017_binary15.tif,\n",
       " 2018_binary15.tif,\n",
       " 2019_binary15.tif,\n",
       " 2020_binary15.tif,\n",
       " 2021_binary15.tif,\n",
       " 2022_binary15.tif]"
      ]
     },
     "execution_count": 16,
     "metadata": {},
     "output_type": "execute_result"
    }
   ],
   "source": [
    "binary15_rasters"
   ]
  },
  {
   "cell_type": "code",
   "execution_count": 17,
   "metadata": {},
   "outputs": [
    {
     "name": "stdout",
     "output_type": "stream",
     "text": [
      "Stacked raster saved successfully.\n"
     ]
    }
   ],
   "source": [
    "# Stack the binary rasters to create a multi-dimensional raster object\n",
    "stacked_raster_15 = arcpy.sa.CellStatistics(binary15_rasters, \"SUM\", \"DATA\")\n",
    "\n",
    "# Save the stacked raster\n",
    "output_path = r\"G:\\CASA\\output_rasters\\pm2.5_rasters_annual\\stacked_binary_15_sum.tif\"\n",
    "stacked_raster_15.save(output_path)\n",
    "\n",
    "print(\"Stacked raster saved successfully.\")"
   ]
  },
  {
   "cell_type": "code",
   "execution_count": 8,
   "metadata": {},
   "outputs": [
    {
     "name": "stdout",
     "output_type": "stream",
     "text": [
      "Processed: 2012.tif\n",
      "Processed: 2013.tif\n",
      "Processed: 2014.tif\n",
      "Processed: 2015.tif\n",
      "Processed: 2016.tif\n",
      "Processed: 2017.tif\n",
      "Processed: 2018.tif\n",
      "Processed: 2019.tif\n",
      "Processed: 2020.tif\n",
      "Processed: 2021.tif\n",
      "Processed: 2022.tif\n",
      "All TIFF files processed.\n"
     ]
    }
   ],
   "source": [
    "#Create binary rasters using threshold > 25\n",
    "import arcpy\n",
    "from arcpy.sa import *\n",
    "\n",
    "# Define the threshold\n",
    "threshold_25 = 25\n",
    "\n",
    "# Iterate through each TIFF file\n",
    "for tif_file in original_tif:\n",
    "    # Define input and output paths\n",
    "    input_tif = arcpy.Raster(tif_file)\n",
    "    output_tif = f\"{tif_file[:-4]}_binary25.tif\"  # Modify output file name as needed\n",
    "\n",
    "    # Apply binary classification\n",
    "    binary_raster = Con(input_tif > threshold_25, 1, 0)\n",
    "\n",
    "    # Save the binary raster\n",
    "    binary_raster.save(output_tif)\n",
    "\n",
    "    print(f\"Processed: {tif_file}\")\n",
    "\n",
    "print(\"All TIFF files processed.\")"
   ]
  },
  {
   "cell_type": "code",
   "execution_count": 3,
   "metadata": {},
   "outputs": [],
   "source": [
    "#Count number of times threshold is exceeded for each pixel across years 2012-2022\n",
    "folder_tif = r\"G:\\CASA\\output_rasters\\pm2.5_rasters_annual\"\n",
    "arcpy.env.workspace = folder_tif\n",
    "binary_25 = arcpy.ListRasters(\"*binary25.tif\")"
   ]
  },
  {
   "cell_type": "code",
   "execution_count": 4,
   "metadata": {},
   "outputs": [
    {
     "data": {
      "text/plain": [
       "['2012_binary25.tif',\n",
       " '2013_binary25.tif',\n",
       " '2014_binary25.tif',\n",
       " '2015_binary25.tif',\n",
       " '2016_binary25.tif',\n",
       " '2017_binary25.tif',\n",
       " '2018_binary25.tif',\n",
       " '2019_binary25.tif',\n",
       " '2020_binary25.tif',\n",
       " '2021_binary25.tif',\n",
       " '2022_binary25.tif']"
      ]
     },
     "execution_count": 4,
     "metadata": {},
     "output_type": "execute_result"
    }
   ],
   "source": [
    "binary_25"
   ]
  },
  {
   "cell_type": "code",
   "execution_count": 5,
   "metadata": {},
   "outputs": [],
   "source": [
    "# Initialize a list to hold the binary raster objects\n",
    "binary25_rasters = []\n",
    "\n",
    "# Iterate through each binary TIFF file\n",
    "for binary_tif in binary_25:\n",
    "    # Create binary raster object\n",
    "    binary25_raster = arcpy.Raster(binary_tif)\n",
    "    binary25_rasters.append(binary25_raster)"
   ]
  },
  {
   "cell_type": "code",
   "execution_count": 6,
   "metadata": {},
   "outputs": [
    {
     "data": {
      "text/plain": [
       "[2012_binary25.tif,\n",
       " 2013_binary25.tif,\n",
       " 2014_binary25.tif,\n",
       " 2015_binary25.tif,\n",
       " 2016_binary25.tif,\n",
       " 2017_binary25.tif,\n",
       " 2018_binary25.tif,\n",
       " 2019_binary25.tif,\n",
       " 2020_binary25.tif,\n",
       " 2021_binary25.tif,\n",
       " 2022_binary25.tif]"
      ]
     },
     "execution_count": 6,
     "metadata": {},
     "output_type": "execute_result"
    }
   ],
   "source": [
    "binary25_rasters"
   ]
  },
  {
   "cell_type": "code",
   "execution_count": 7,
   "metadata": {},
   "outputs": [
    {
     "name": "stdout",
     "output_type": "stream",
     "text": [
      "Stacked raster saved successfully.\n"
     ]
    }
   ],
   "source": [
    "# Stack the binary rasters to create a multi-dimensional raster object\n",
    "stacked_raster_25 = arcpy.sa.CellStatistics(binary25_rasters, \"SUM\", \"DATA\")\n",
    "\n",
    "# Save the stacked raster\n",
    "output_path = r\"G:\\CASA\\output_rasters\\pm2.5_rasters_annual\\stacked_binary_25_sum.tif\"\n",
    "stacked_raster_25.save(output_path)\n",
    "\n",
    "print(\"Stacked raster saved successfully.\")"
   ]
  },
  {
   "cell_type": "code",
   "execution_count": 10,
   "metadata": {},
   "outputs": [
    {
     "name": "stdout",
     "output_type": "stream",
     "text": [
      "Processed: 2012.tif\n",
      "Processed: 2013.tif\n",
      "Processed: 2014.tif\n",
      "Processed: 2015.tif\n",
      "Processed: 2016.tif\n",
      "Processed: 2017.tif\n",
      "Processed: 2018.tif\n",
      "Processed: 2019.tif\n",
      "Processed: 2020.tif\n",
      "Processed: 2021.tif\n",
      "Processed: 2022.tif\n",
      "All TIFF files processed.\n"
     ]
    }
   ],
   "source": [
    "#Create binary rasters using threshold > 35\n",
    "import arcpy\n",
    "from arcpy.sa import *\n",
    "\n",
    "# Define the threshold\n",
    "threshold_35 = 35\n",
    "\n",
    "# Iterate through each TIFF file\n",
    "for tif_file in original_tif:\n",
    "    # Define input and output paths\n",
    "    input_tif = arcpy.Raster(tif_file)\n",
    "    output_tif = f\"{tif_file[:-4]}_binary35.tif\"  # Modify output file name as needed\n",
    "\n",
    "    # Apply binary classification\n",
    "    binary_raster = Con(input_tif > threshold_35, 1, 0)\n",
    "\n",
    "    # Save the binary raster\n",
    "    binary_raster.save(output_tif)\n",
    "\n",
    "    print(f\"Processed: {tif_file}\")\n",
    "\n",
    "print(\"All TIFF files processed.\")"
   ]
  },
  {
   "cell_type": "code",
   "execution_count": 3,
   "metadata": {},
   "outputs": [],
   "source": [
    "#Count number of times threshold is exceeded for each pixel across years 2012-2022\n",
    "folder_tif = r\"G:\\CASA\\output_rasters\\pm2.5_rasters_annual\"\n",
    "arcpy.env.workspace = folder_tif\n",
    "binary_35 = arcpy.ListRasters(\"*binary35.tif\")"
   ]
  },
  {
   "cell_type": "code",
   "execution_count": 4,
   "metadata": {},
   "outputs": [
    {
     "data": {
      "text/plain": [
       "['2012_binary35.tif',\n",
       " '2013_binary35.tif',\n",
       " '2014_binary35.tif',\n",
       " '2015_binary35.tif',\n",
       " '2016_binary35.tif',\n",
       " '2017_binary35.tif',\n",
       " '2018_binary35.tif',\n",
       " '2019_binary35.tif',\n",
       " '2020_binary35.tif',\n",
       " '2021_binary35.tif',\n",
       " '2022_binary35.tif']"
      ]
     },
     "execution_count": 4,
     "metadata": {},
     "output_type": "execute_result"
    }
   ],
   "source": [
    "binary_35"
   ]
  },
  {
   "cell_type": "code",
   "execution_count": 5,
   "metadata": {},
   "outputs": [],
   "source": [
    "# Initialize a list to hold the binary raster objects\n",
    "binary35_rasters = []\n",
    "\n",
    "# Iterate through each binary TIFF file\n",
    "for binary_tif in binary_35:\n",
    "    # Create binary raster object\n",
    "    binary35_raster = arcpy.Raster(binary_tif)\n",
    "    binary35_rasters.append(binary35_raster)"
   ]
  },
  {
   "cell_type": "code",
   "execution_count": 6,
   "metadata": {},
   "outputs": [
    {
     "data": {
      "text/plain": [
       "[2012_binary35.tif,\n",
       " 2013_binary35.tif,\n",
       " 2014_binary35.tif,\n",
       " 2015_binary35.tif,\n",
       " 2016_binary35.tif,\n",
       " 2017_binary35.tif,\n",
       " 2018_binary35.tif,\n",
       " 2019_binary35.tif,\n",
       " 2020_binary35.tif,\n",
       " 2021_binary35.tif,\n",
       " 2022_binary35.tif]"
      ]
     },
     "execution_count": 6,
     "metadata": {},
     "output_type": "execute_result"
    }
   ],
   "source": [
    "binary35_rasters"
   ]
  },
  {
   "cell_type": "code",
   "execution_count": 7,
   "metadata": {},
   "outputs": [
    {
     "name": "stdout",
     "output_type": "stream",
     "text": [
      "Stacked raster saved successfully.\n"
     ]
    }
   ],
   "source": [
    "# Stack the binary rasters to create a multi-dimensional raster object\n",
    "stacked_raster_35 = arcpy.sa.CellStatistics(binary35_rasters, \"SUM\", \"DATA\")\n",
    "\n",
    "# Save the stacked raster\n",
    "output_path = r\"G:\\CASA\\output_rasters\\pm2.5_rasters_annual\\stacked_binary_35_sum.tif\"\n",
    "stacked_raster_35.save(output_path)\n",
    "\n",
    "print(\"Stacked raster saved successfully.\")"
   ]
  },
  {
   "cell_type": "code",
   "execution_count": 14,
   "metadata": {},
   "outputs": [],
   "source": [
    "counts_tif = r\"G:\\CASA\\ejen\\Recent Air Pollution\"\n",
    "arcpy.env.workspace = counts_tif\n",
    "counts_tif = arcpy.ListRasters(\"*.tif\")"
   ]
  },
  {
   "cell_type": "code",
   "execution_count": 9,
   "metadata": {},
   "outputs": [
    {
     "data": {
      "text/plain": [
       "['stacked_binary_10_sum.tif',\n",
       " 'stacked_binary_15_sum.tif',\n",
       " 'stacked_binary_25_sum.tif',\n",
       " 'stacked_binary_35_sum.tif',\n",
       " 'stacked_binary_5_sum.tif']"
      ]
     },
     "execution_count": 9,
     "metadata": {},
     "output_type": "execute_result"
    }
   ],
   "source": [
    "counts_tif"
   ]
  },
  {
   "cell_type": "code",
   "execution_count": 15,
   "metadata": {},
   "outputs": [
    {
     "name": "stdout",
     "output_type": "stream",
     "text": [
      "Processed: stacked_binary_10_sum.tif\n",
      "Processed: stacked_binary_15_sum.tif\n",
      "Processed: stacked_binary_25_sum.tif\n",
      "Processed: stacked_binary_35_sum.tif\n",
      "Processed: stacked_binary_5_sum.tif\n",
      "All TIFF files processed.\n"
     ]
    }
   ],
   "source": [
    "#Create binary rasters using threshold > 5\n",
    "import arcpy\n",
    "from arcpy.sa import *\n",
    "\n",
    "# Define the threshold\n",
    "threshold_count_5 = 5\n",
    "\n",
    "# Iterate through each TIFF file\n",
    "for tif_file in counts_tif:\n",
    "    # Define input and output paths\n",
    "    input_tif = arcpy.Raster(tif_file)\n",
    "    output_tif = f\"{tif_file[:-4]}_dichotomous.tif\"  # Modify output file name as needed\n",
    "\n",
    "    # Apply binary classification\n",
    "    binary_raster = Con(input_tif > threshold_count_5, 1, 0)\n",
    "\n",
    "    # Save the binary raster\n",
    "    binary_raster.save(output_tif)\n",
    "\n",
    "    print(f\"Processed: {tif_file}\")\n",
    "\n",
    "print(\"All TIFF files processed.\")"
   ]
  },
  {
   "cell_type": "code",
   "execution_count": 3,
   "metadata": {},
   "outputs": [],
   "source": [
    "#Mask files using city boundaries"
   ]
  },
  {
   "cell_type": "code",
   "execution_count": 2,
   "metadata": {},
   "outputs": [],
   "source": [
    "import arcpy\n",
    "import os\n",
    "\n",
    "tif_folder = r\"G:\\CASA\\ejen\\Recent Air Pollution\\final_tifs\"\n",
    "cities_dataset = r\"G:\\CASA\\ejen\\cities_dataset_progress_7_18.gpkg\"\n",
    "arcpy.env.workspace = cities_dataset\n",
    "datasets = arcpy.ListFeatureClasses()\n",
    "cities_dataset_feature = f\"{cities_dataset}\\{datasets[0]}\""
   ]
  },
  {
   "cell_type": "code",
   "execution_count": 3,
   "metadata": {},
   "outputs": [],
   "source": [
    "arcpy.env.workspace = tif_folder\n",
    "final_tifs = arcpy.ListRasters(\"*.tif\")"
   ]
  },
  {
   "cell_type": "code",
   "execution_count": 6,
   "metadata": {},
   "outputs": [
    {
     "name": "stdout",
     "output_type": "stream",
     "text": [
      "subcity_air_pollution_10.tif\n",
      "subcity_air_pollution_15.tif\n",
      "subcity_air_pollution_25.tif\n",
      "subcity_air_pollution_35.tif\n",
      "subcity_air_pollution_5.tif\n"
     ]
    }
   ],
   "source": [
    "#Mask rasters using city boundaries\n",
    "for tif in final_tifs:\n",
    "    print(tif)\n",
    "    try:\n",
    "        masked_tif = arcpy.sa.ExtractByMask(tif, cities_dataset_feature)\n",
    "        masked_tif.save(f\"G:/CASA/ejen/Recent Air Pollution/final_tifs/cities_{tif}\")\n",
    "\n",
    "    except arcpy.ExecuteError:\n",
    "        print(tif,\" failed \",arcpy.GetMessages()) "
   ]
  },
  {
   "cell_type": "code",
   "execution_count": null,
   "metadata": {},
   "outputs": [],
   "source": [
    "#Expand raster to improve alignment with other indicators when converting to vectors and repeat for each file\n",
    "out_raster = arcpy.sa.Expand(\n",
    "    in_raster=\"cities_subcity_air_pollution_5.tif\",\n",
    "    number_cells=2,\n",
    "    zone_values=[1,0],\n",
    "    expand_method=\"MORPHOLOGICAL\"\n",
    ")\n",
    "out_raster.save(r\"G:\\CASA\\ejen\\casa_project\\Default.gdb\\Expand_citie1\")"
   ]
  },
  {
   "cell_type": "code",
   "execution_count": null,
   "metadata": {},
   "outputs": [],
   "source": [
    "#Convert from raster to polygon\n",
    "with arcpy.EnvManager(outputZFlag=\"Disabled\", outputMFlag=\"Disabled\"):\n",
    "    arcpy.conversion.RasterToPolygon(\n",
    "        in_raster=\"Expand_citie1\",\n",
    "        out_polygon_features=r\"G:\\CASA\\ejen\\casa_project\\Default.gdb\\RasterT_Expand_1\",\n",
    "        simplify=\"NO_SIMPLIFY\",\n",
    "        raster_field=\"Value\",\n",
    "        create_multipart_features=\"SINGLE_OUTER_PART\",\n",
    "        max_vertices_per_feature=None\n",
    "    )"
   ]
  },
  {
   "cell_type": "code",
   "execution_count": null,
   "metadata": {},
   "outputs": [],
   "source": [
    "#Intersect airpollution and city polygons\n",
    "arcpy.analysis.PairwiseIntersect(\n",
    "    in_features=\"RasterT_Expand_1;cities_dataset_final\",\n",
    "    out_feature_class=r\"G:\\CASA\\ejen\\casa_project\\Default.gdb\\RasterT_Expand_PairwiseInter\",\n",
    "    join_attributes=\"NO_FID\",\n",
    "    cluster_tolerance=None,\n",
    "    output_type=\"INPUT\"\n",
    ")"
   ]
  },
  {
   "cell_type": "code",
   "execution_count": null,
   "metadata": {},
   "outputs": [],
   "source": [
    "#Save as shapefile\n",
    "arcpy.conversion.ExportFeatures(\n",
    "    in_features=\"RasterT_Expand_PairwiseInter\",\n",
    "    out_features=r\"G:\\CASA\\ejen\\Subcity Shapefiles\\Not cleaned\\subcity_airpollu_5.shp\",\n",
    "    where_clause=\"\",\n",
    "    use_field_alias_as_name=\"NOT_USE_ALIAS\",\n",
    "    field_mapping='Id \"Id\" true true false 4 Long 0 0,First,#,RasterT_Expand_PairwiseInter,Id,-1,-1;gridcode \"gridcode\" true true false 4 Long 0 0,First,#,RasterT_Expand_PairwiseInter,gridcode,-1,-1;ID_HDC_G0 \"ID_HDC_G0\" true true false 8 Double 0 0,First,#,RasterT_Expand_PairwiseInter,ID_HDC_G0,-1,-1;UC_NM_MN \"UC_NM_MN\" true true false 80 Text 0 0,First,#,RasterT_Expand_PairwiseInter,UC_NM_MN,0,80;UC_NM_LST \"UC_NM_LST\" true true false 254 Text 0 0,First,#,RasterT_Expand_PairwiseInter,UC_NM_LST,0,254;CTR_MN_NM \"CTR_MN_NM\" true true false 80 Text 0 0,First,#,RasterT_Expand_PairwiseInter,CTR_MN_NM,0,80;REG_GHSL \"REG_GHSL\" true true false 80 Text 0 0,First,#,RasterT_Expand_PairwiseInter,REG_GHSL,0,80;REG_USAID \"REG_USAID\" true true false 80 Text 0 0,First,#,RasterT_Expand_PairwiseInter,REG_USAID,0,80;IN_USAID \"IN_USAID\" true true false 8 Double 0 0,First,#,RasterT_Expand_PairwiseInter,IN_USAID,-1,-1;P15 \"P15\" true true false 8 Double 0 0,First,#,RasterT_Expand_PairwiseInter,P15,-1,-1;P20 \"P20\" true true false 8 Double 0 0,First,#,RasterT_Expand_PairwiseInter,P20,-1,-1;P25 \"P25\" true true false 8 Double 0 0,First,#,RasterT_Expand_PairwiseInter,P25,-1,-1;P20_25 \"P20_25\" true true false 8 Double 0 0,First,#,RasterT_Expand_PairwiseInter,P20_25,-1,-1;P20_25_CAT \"P20_25_CAT\" true true false 80 Text 0 0,First,#,RasterT_Expand_PairwiseInter,P20_25_CAT,0,80;P20_25_BIN \"P20_25_BIN\" true true false 8 Double 0 0,First,#,RasterT_Expand_PairwiseInter,P20_25_BIN,-1,-1;P25_CAT \"P25_CAT\" true true false 80 Text 0 0,First,#,RasterT_Expand_PairwiseInter,P25_CAT,0,80;P25_SMMED \"P25_SMMED\" true true false 8 Double 0 0,First,#,RasterT_Expand_PairwiseInter,P25_SMMED,-1,-1;P_AGE_U15 \"P_AGE_U15\" true true false 8 Double 0 0,First,#,RasterT_Expand_PairwiseInter,P_AGE_U15,-1,-1;P_AGE_65UP \"P_AGE_65UP\" true true false 8 Double 0 0,First,#,RasterT_Expand_PairwiseInter,P_AGE_65UP,-1,-1;P_AGE_DEP \"P_AGE_DEP\" true true false 8 Double 0 0,First,#,RasterT_Expand_PairwiseInter,P_AGE_DEP,-1,-1;GDP15 \"GDP15\" true true false 4 Long 0 0,First,#,RasterT_Expand_PairwiseInter,GDP15,-1,-1;GDP15_PER \"GDP15_PER\" true true false 8 Double 0 0,First,#,RasterT_Expand_PairwiseInter,GDP15_PER,-1,-1;P00_20 \"P00_20\" true true false 8 Double 0 0,First,#,RasterT_Expand_PairwiseInter,P00_20,-1,-1;P00_20_MIG \"P00_20_MIG\" true true false 8 Double 0 0,First,#,RasterT_Expand_PairwiseInter,P00_20_MIG,-1,-1;D_1M \"D_1M\" true true false 8 Double 0 0,First,#,RasterT_Expand_PairwiseInter,D_1M,-1,-1;D_1M_NM \"D_1M_NM\" true true false 80 Text 0 0,First,#,RasterT_Expand_PairwiseInter,D_1M_NM,0,80;D_500K \"D_500K\" true true false 8 Double 0 0,First,#,RasterT_Expand_PairwiseInter,D_500K,-1,-1;D_500K_NM \"D_500K_NM\" true true false 80 Text 0 0,First,#,RasterT_Expand_PairwiseInter,D_500K_NM,0,80;L_DRY \"L_DRY\" true true false 8 Double 0 0,First,#,RasterT_Expand_PairwiseInter,L_DRY,-1,-1;L_COAST \"L_COAST\" true true false 8 Double 0 0,First,#,RasterT_Expand_PairwiseInter,L_COAST,-1,-1;L_ELEV \"L_ELEV\" true true false 8 Double 0 0,First,#,RasterT_Expand_PairwiseInter,L_ELEV,-1,-1;RISK_TEMP_ \"RISK_TEMP_\" true true false 8 Double 0 0,First,#,RasterT_Expand_PairwiseInter,RISK_TEMP_,-1,-1;RISK_WBGT_ \"RISK_WBGT_\" true true false 8 Double 0 0,First,#,RasterT_Expand_PairwiseInter,RISK_WBGT_,-1,-1;RISK_TEMP \"RISK_TEMP\" true true false 8 Double 0 0,First,#,RasterT_Expand_PairwiseInter,RISK_TEMP,-1,-1;RISK_WBGT \"RISK_WBGT\" true true false 8 Double 0 0,First,#,RasterT_Expand_PairwiseInter,RISK_WBGT,-1,-1;RISK_SCAR \"RISK_SCAR\" true true false 8 Double 0 0,First,#,RasterT_Expand_PairwiseInter,RISK_SCAR,-1,-1;RISK_RIVR_ \"RISK_RIVR_\" true true false 8 Double 0 0,First,#,RasterT_Expand_PairwiseInter,RISK_RIVR_,-1,-1;RISK_RIVR \"RISK_RIVR\" true true false 8 Double 0 0,First,#,RasterT_Expand_PairwiseInter,RISK_RIVR,-1,-1;RISK_SURG_ \"RISK_SURG_\" true true false 8 Double 0 0,First,#,RasterT_Expand_PairwiseInter,RISK_SURG_,-1,-1;RISK_SURG \"RISK_SURG\" true true false 8 Double 0 0,First,#,RasterT_Expand_PairwiseInter,RISK_SURG,-1,-1;RISK_CYC1 \"RISK_CYC1\" true true false 8 Double 0 0,First,#,RasterT_Expand_PairwiseInter,RISK_CYC1,-1,-1;RISK_CYC2 \"RISK_CYC2\" true true false 8 Double 0 0,First,#,RasterT_Expand_PairwiseInter,RISK_CYC2,-1,-1;RISK_LAND \"RISK_LAND\" true true false 8 Double 0 0,First,#,RasterT_Expand_PairwiseInter,RISK_LAND,-1,-1;unique_id \"unique_id\" true true false 254 Text 0 0,First,#,RasterT_Expand_PairwiseInter,unique_id,0,254;Shape_Length \"Shape_Length\" false true true 8 Double 0 0,First,#,RasterT_Expand_PairwiseInter,Shape_Length,-1,-1;Shape_Area \"Shape_Area\" false true true 8 Double 0 0,First,#,RasterT_Expand_PairwiseInter,Shape_Area,-1,-1',\n",
    "    sort_field=None\n",
    ")"
   ]
  },
  {
   "cell_type": "code",
   "execution_count": null,
   "metadata": {},
   "outputs": [],
   "source": [
    "#Repeat above steps for the different thresholds: 5, 10, 15, 25, 35"
   ]
  },
  {
   "cell_type": "code",
   "execution_count": null,
   "metadata": {},
   "outputs": [],
   "source": [
    "out_raster = arcpy.sa.Expand(\n",
    "    in_raster=\"cities_subcity_air_pollution_10.tif\",\n",
    "    number_cells=2,\n",
    "    zone_values=[1,0],\n",
    "    expand_method=\"MORPHOLOGICAL\"\n",
    ")\n",
    "out_raster.save(r\"G:\\CASA\\ejen\\casa_project\\Default.gdb\\Expand_citie2\")"
   ]
  },
  {
   "cell_type": "code",
   "execution_count": null,
   "metadata": {},
   "outputs": [],
   "source": [
    "arcpy.conversion.RasterToPolygon(\n",
    "    in_raster=\"Expand_citie2\",\n",
    "    out_polygon_features=r\"G:\\CASA\\ejen\\casa_project\\Default.gdb\\RasterT_Expand_2\",\n",
    "    simplify=\"NO_SIMPLIFY\",\n",
    "    raster_field=\"Value\",\n",
    "    create_multipart_features=\"SINGLE_OUTER_PART\",\n",
    "    max_vertices_per_feature=None\n",
    ")"
   ]
  },
  {
   "cell_type": "code",
   "execution_count": null,
   "metadata": {},
   "outputs": [],
   "source": [
    "arcpy.analysis.PairwiseIntersect(\n",
    "    in_features=\"RasterT_Expand_2;cities_dataset_final\",\n",
    "    out_feature_class=r\"G:\\CASA\\ejen\\casa_project\\Default.gdb\\RasterT_Expand_PairwiseInter1\",\n",
    "    join_attributes=\"NO_FID\",\n",
    "    cluster_tolerance=None,\n",
    "    output_type=\"INPUT\"\n",
    ")"
   ]
  },
  {
   "cell_type": "code",
   "execution_count": null,
   "metadata": {},
   "outputs": [],
   "source": [
    "arcpy.conversion.ExportFeatures(\n",
    "    in_features=\"RasterT_Expand_PairwiseInter1\",\n",
    "    out_features=r\"G:\\CASA\\ejen\\Subcity Shapefiles\\Not cleaned\\subcity_airpollu_10.shp\",\n",
    "    where_clause=\"\",\n",
    "    use_field_alias_as_name=\"NOT_USE_ALIAS\",\n",
    "    field_mapping='Id \"Id\" true true false 4 Long 0 0,First,#,RasterT_Expand_PairwiseInter1,Id,-1,-1;gridcode \"gridcode\" true true false 4 Long 0 0,First,#,RasterT_Expand_PairwiseInter1,gridcode,-1,-1;ID_HDC_G0 \"ID_HDC_G0\" true true false 8 Double 0 0,First,#,RasterT_Expand_PairwiseInter1,ID_HDC_G0,-1,-1;UC_NM_MN \"UC_NM_MN\" true true false 80 Text 0 0,First,#,RasterT_Expand_PairwiseInter1,UC_NM_MN,0,80;UC_NM_LST \"UC_NM_LST\" true true false 254 Text 0 0,First,#,RasterT_Expand_PairwiseInter1,UC_NM_LST,0,254;CTR_MN_NM \"CTR_MN_NM\" true true false 80 Text 0 0,First,#,RasterT_Expand_PairwiseInter1,CTR_MN_NM,0,80;REG_GHSL \"REG_GHSL\" true true false 80 Text 0 0,First,#,RasterT_Expand_PairwiseInter1,REG_GHSL,0,80;REG_USAID \"REG_USAID\" true true false 80 Text 0 0,First,#,RasterT_Expand_PairwiseInter1,REG_USAID,0,80;IN_USAID \"IN_USAID\" true true false 8 Double 0 0,First,#,RasterT_Expand_PairwiseInter1,IN_USAID,-1,-1;P15 \"P15\" true true false 8 Double 0 0,First,#,RasterT_Expand_PairwiseInter1,P15,-1,-1;P20 \"P20\" true true false 8 Double 0 0,First,#,RasterT_Expand_PairwiseInter1,P20,-1,-1;P25 \"P25\" true true false 8 Double 0 0,First,#,RasterT_Expand_PairwiseInter1,P25,-1,-1;P20_25 \"P20_25\" true true false 8 Double 0 0,First,#,RasterT_Expand_PairwiseInter1,P20_25,-1,-1;P20_25_CAT \"P20_25_CAT\" true true false 80 Text 0 0,First,#,RasterT_Expand_PairwiseInter1,P20_25_CAT,0,80;P20_25_BIN \"P20_25_BIN\" true true false 8 Double 0 0,First,#,RasterT_Expand_PairwiseInter1,P20_25_BIN,-1,-1;P25_CAT \"P25_CAT\" true true false 80 Text 0 0,First,#,RasterT_Expand_PairwiseInter1,P25_CAT,0,80;P25_SMMED \"P25_SMMED\" true true false 8 Double 0 0,First,#,RasterT_Expand_PairwiseInter1,P25_SMMED,-1,-1;P_AGE_U15 \"P_AGE_U15\" true true false 8 Double 0 0,First,#,RasterT_Expand_PairwiseInter1,P_AGE_U15,-1,-1;P_AGE_65UP \"P_AGE_65UP\" true true false 8 Double 0 0,First,#,RasterT_Expand_PairwiseInter1,P_AGE_65UP,-1,-1;P_AGE_DEP \"P_AGE_DEP\" true true false 8 Double 0 0,First,#,RasterT_Expand_PairwiseInter1,P_AGE_DEP,-1,-1;GDP15 \"GDP15\" true true false 4 Long 0 0,First,#,RasterT_Expand_PairwiseInter1,GDP15,-1,-1;GDP15_PER \"GDP15_PER\" true true false 8 Double 0 0,First,#,RasterT_Expand_PairwiseInter1,GDP15_PER,-1,-1;P00_20 \"P00_20\" true true false 8 Double 0 0,First,#,RasterT_Expand_PairwiseInter1,P00_20,-1,-1;P00_20_MIG \"P00_20_MIG\" true true false 8 Double 0 0,First,#,RasterT_Expand_PairwiseInter1,P00_20_MIG,-1,-1;D_1M \"D_1M\" true true false 8 Double 0 0,First,#,RasterT_Expand_PairwiseInter1,D_1M,-1,-1;D_1M_NM \"D_1M_NM\" true true false 80 Text 0 0,First,#,RasterT_Expand_PairwiseInter1,D_1M_NM,0,80;D_500K \"D_500K\" true true false 8 Double 0 0,First,#,RasterT_Expand_PairwiseInter1,D_500K,-1,-1;D_500K_NM \"D_500K_NM\" true true false 80 Text 0 0,First,#,RasterT_Expand_PairwiseInter1,D_500K_NM,0,80;L_DRY \"L_DRY\" true true false 8 Double 0 0,First,#,RasterT_Expand_PairwiseInter1,L_DRY,-1,-1;L_COAST \"L_COAST\" true true false 8 Double 0 0,First,#,RasterT_Expand_PairwiseInter1,L_COAST,-1,-1;L_ELEV \"L_ELEV\" true true false 8 Double 0 0,First,#,RasterT_Expand_PairwiseInter1,L_ELEV,-1,-1;RISK_TEMP_ \"RISK_TEMP_\" true true false 8 Double 0 0,First,#,RasterT_Expand_PairwiseInter1,RISK_TEMP_,-1,-1;RISK_WBGT_ \"RISK_WBGT_\" true true false 8 Double 0 0,First,#,RasterT_Expand_PairwiseInter1,RISK_WBGT_,-1,-1;RISK_TEMP \"RISK_TEMP\" true true false 8 Double 0 0,First,#,RasterT_Expand_PairwiseInter1,RISK_TEMP,-1,-1;RISK_WBGT \"RISK_WBGT\" true true false 8 Double 0 0,First,#,RasterT_Expand_PairwiseInter1,RISK_WBGT,-1,-1;RISK_SCAR \"RISK_SCAR\" true true false 8 Double 0 0,First,#,RasterT_Expand_PairwiseInter1,RISK_SCAR,-1,-1;RISK_RIVR_ \"RISK_RIVR_\" true true false 8 Double 0 0,First,#,RasterT_Expand_PairwiseInter1,RISK_RIVR_,-1,-1;RISK_RIVR \"RISK_RIVR\" true true false 8 Double 0 0,First,#,RasterT_Expand_PairwiseInter1,RISK_RIVR,-1,-1;RISK_SURG_ \"RISK_SURG_\" true true false 8 Double 0 0,First,#,RasterT_Expand_PairwiseInter1,RISK_SURG_,-1,-1;RISK_SURG \"RISK_SURG\" true true false 8 Double 0 0,First,#,RasterT_Expand_PairwiseInter1,RISK_SURG,-1,-1;RISK_CYC1 \"RISK_CYC1\" true true false 8 Double 0 0,First,#,RasterT_Expand_PairwiseInter1,RISK_CYC1,-1,-1;RISK_CYC2 \"RISK_CYC2\" true true false 8 Double 0 0,First,#,RasterT_Expand_PairwiseInter1,RISK_CYC2,-1,-1;RISK_LAND \"RISK_LAND\" true true false 8 Double 0 0,First,#,RasterT_Expand_PairwiseInter1,RISK_LAND,-1,-1;unique_id \"unique_id\" true true false 254 Text 0 0,First,#,RasterT_Expand_PairwiseInter1,unique_id,0,254;Shape_Length \"Shape_Length\" false true true 8 Double 0 0,First,#,RasterT_Expand_PairwiseInter1,Shape_Length,-1,-1;Shape_Area \"Shape_Area\" false true true 8 Double 0 0,First,#,RasterT_Expand_PairwiseInter1,Shape_Area,-1,-1',\n",
    "    sort_field=None\n",
    ")"
   ]
  },
  {
   "cell_type": "code",
   "execution_count": null,
   "metadata": {},
   "outputs": [],
   "source": [
    "out_raster = arcpy.sa.Expand(\n",
    "    in_raster=\"cities_subcity_air_pollution_15.tif\",\n",
    "    number_cells=2,\n",
    "    zone_values=[1,0],\n",
    "    expand_method=\"MORPHOLOGICAL\"\n",
    ")\n",
    "out_raster.save(r\"G:\\CASA\\ejen\\casa_project\\Default.gdb\\Expand_citie3\")"
   ]
  },
  {
   "cell_type": "code",
   "execution_count": null,
   "metadata": {},
   "outputs": [],
   "source": [
    "arcpy.conversion.RasterToPolygon(\n",
    "    in_raster=\"Expand_citie3\",\n",
    "    out_polygon_features=r\"G:\\CASA\\ejen\\casa_project\\Default.gdb\\RasterT_Expand_3\",\n",
    "    simplify=\"NO_SIMPLIFY\",\n",
    "    raster_field=\"Value\",\n",
    "    create_multipart_features=\"SINGLE_OUTER_PART\",\n",
    "    max_vertices_per_feature=None\n",
    ")"
   ]
  },
  {
   "cell_type": "code",
   "execution_count": null,
   "metadata": {},
   "outputs": [],
   "source": [
    "arcpy.analysis.PairwiseIntersect(\n",
    "    in_features=\"RasterT_Expand_3;cities_dataset_final\",\n",
    "    out_feature_class=r\"G:\\CASA\\ejen\\casa_project\\Default.gdb\\RasterT_Expand_PairwiseInter2\",\n",
    "    join_attributes=\"NO_FID\",\n",
    "    cluster_tolerance=None,\n",
    "    output_type=\"INPUT\"\n",
    ")"
   ]
  },
  {
   "cell_type": "code",
   "execution_count": null,
   "metadata": {},
   "outputs": [],
   "source": [
    "arcpy.conversion.ExportFeatures(\n",
    "    in_features=\"RasterT_Expand_PairwiseInter2\",\n",
    "    out_features=r\"G:\\CASA\\ejen\\Subcity Shapefiles\\Not cleaned\\subcity_airpollu_15.shp\",\n",
    "    where_clause=\"\",\n",
    "    use_field_alias_as_name=\"NOT_USE_ALIAS\",\n",
    "    field_mapping='Id \"Id\" true true false 4 Long 0 0,First,#,RasterT_Expand_PairwiseInter2,Id,-1,-1;gridcode \"gridcode\" true true false 4 Long 0 0,First,#,RasterT_Expand_PairwiseInter2,gridcode,-1,-1;ID_HDC_G0 \"ID_HDC_G0\" true true false 8 Double 0 0,First,#,RasterT_Expand_PairwiseInter2,ID_HDC_G0,-1,-1;UC_NM_MN \"UC_NM_MN\" true true false 80 Text 0 0,First,#,RasterT_Expand_PairwiseInter2,UC_NM_MN,0,80;UC_NM_LST \"UC_NM_LST\" true true false 254 Text 0 0,First,#,RasterT_Expand_PairwiseInter2,UC_NM_LST,0,254;CTR_MN_NM \"CTR_MN_NM\" true true false 80 Text 0 0,First,#,RasterT_Expand_PairwiseInter2,CTR_MN_NM,0,80;REG_GHSL \"REG_GHSL\" true true false 80 Text 0 0,First,#,RasterT_Expand_PairwiseInter2,REG_GHSL,0,80;REG_USAID \"REG_USAID\" true true false 80 Text 0 0,First,#,RasterT_Expand_PairwiseInter2,REG_USAID,0,80;IN_USAID \"IN_USAID\" true true false 8 Double 0 0,First,#,RasterT_Expand_PairwiseInter2,IN_USAID,-1,-1;P15 \"P15\" true true false 8 Double 0 0,First,#,RasterT_Expand_PairwiseInter2,P15,-1,-1;P20 \"P20\" true true false 8 Double 0 0,First,#,RasterT_Expand_PairwiseInter2,P20,-1,-1;P25 \"P25\" true true false 8 Double 0 0,First,#,RasterT_Expand_PairwiseInter2,P25,-1,-1;P20_25 \"P20_25\" true true false 8 Double 0 0,First,#,RasterT_Expand_PairwiseInter2,P20_25,-1,-1;P20_25_CAT \"P20_25_CAT\" true true false 80 Text 0 0,First,#,RasterT_Expand_PairwiseInter2,P20_25_CAT,0,80;P20_25_BIN \"P20_25_BIN\" true true false 8 Double 0 0,First,#,RasterT_Expand_PairwiseInter2,P20_25_BIN,-1,-1;P25_CAT \"P25_CAT\" true true false 80 Text 0 0,First,#,RasterT_Expand_PairwiseInter2,P25_CAT,0,80;P25_SMMED \"P25_SMMED\" true true false 8 Double 0 0,First,#,RasterT_Expand_PairwiseInter2,P25_SMMED,-1,-1;P_AGE_U15 \"P_AGE_U15\" true true false 8 Double 0 0,First,#,RasterT_Expand_PairwiseInter2,P_AGE_U15,-1,-1;P_AGE_65UP \"P_AGE_65UP\" true true false 8 Double 0 0,First,#,RasterT_Expand_PairwiseInter2,P_AGE_65UP,-1,-1;P_AGE_DEP \"P_AGE_DEP\" true true false 8 Double 0 0,First,#,RasterT_Expand_PairwiseInter2,P_AGE_DEP,-1,-1;GDP15 \"GDP15\" true true false 4 Long 0 0,First,#,RasterT_Expand_PairwiseInter2,GDP15,-1,-1;GDP15_PER \"GDP15_PER\" true true false 8 Double 0 0,First,#,RasterT_Expand_PairwiseInter2,GDP15_PER,-1,-1;P00_20 \"P00_20\" true true false 8 Double 0 0,First,#,RasterT_Expand_PairwiseInter2,P00_20,-1,-1;P00_20_MIG \"P00_20_MIG\" true true false 8 Double 0 0,First,#,RasterT_Expand_PairwiseInter2,P00_20_MIG,-1,-1;D_1M \"D_1M\" true true false 8 Double 0 0,First,#,RasterT_Expand_PairwiseInter2,D_1M,-1,-1;D_1M_NM \"D_1M_NM\" true true false 80 Text 0 0,First,#,RasterT_Expand_PairwiseInter2,D_1M_NM,0,80;D_500K \"D_500K\" true true false 8 Double 0 0,First,#,RasterT_Expand_PairwiseInter2,D_500K,-1,-1;D_500K_NM \"D_500K_NM\" true true false 80 Text 0 0,First,#,RasterT_Expand_PairwiseInter2,D_500K_NM,0,80;L_DRY \"L_DRY\" true true false 8 Double 0 0,First,#,RasterT_Expand_PairwiseInter2,L_DRY,-1,-1;L_COAST \"L_COAST\" true true false 8 Double 0 0,First,#,RasterT_Expand_PairwiseInter2,L_COAST,-1,-1;L_ELEV \"L_ELEV\" true true false 8 Double 0 0,First,#,RasterT_Expand_PairwiseInter2,L_ELEV,-1,-1;RISK_TEMP_ \"RISK_TEMP_\" true true false 8 Double 0 0,First,#,RasterT_Expand_PairwiseInter2,RISK_TEMP_,-1,-1;RISK_WBGT_ \"RISK_WBGT_\" true true false 8 Double 0 0,First,#,RasterT_Expand_PairwiseInter2,RISK_WBGT_,-1,-1;RISK_TEMP \"RISK_TEMP\" true true false 8 Double 0 0,First,#,RasterT_Expand_PairwiseInter2,RISK_TEMP,-1,-1;RISK_WBGT \"RISK_WBGT\" true true false 8 Double 0 0,First,#,RasterT_Expand_PairwiseInter2,RISK_WBGT,-1,-1;RISK_SCAR \"RISK_SCAR\" true true false 8 Double 0 0,First,#,RasterT_Expand_PairwiseInter2,RISK_SCAR,-1,-1;RISK_RIVR_ \"RISK_RIVR_\" true true false 8 Double 0 0,First,#,RasterT_Expand_PairwiseInter2,RISK_RIVR_,-1,-1;RISK_RIVR \"RISK_RIVR\" true true false 8 Double 0 0,First,#,RasterT_Expand_PairwiseInter2,RISK_RIVR,-1,-1;RISK_SURG_ \"RISK_SURG_\" true true false 8 Double 0 0,First,#,RasterT_Expand_PairwiseInter2,RISK_SURG_,-1,-1;RISK_SURG \"RISK_SURG\" true true false 8 Double 0 0,First,#,RasterT_Expand_PairwiseInter2,RISK_SURG,-1,-1;RISK_CYC1 \"RISK_CYC1\" true true false 8 Double 0 0,First,#,RasterT_Expand_PairwiseInter2,RISK_CYC1,-1,-1;RISK_CYC2 \"RISK_CYC2\" true true false 8 Double 0 0,First,#,RasterT_Expand_PairwiseInter2,RISK_CYC2,-1,-1;RISK_LAND \"RISK_LAND\" true true false 8 Double 0 0,First,#,RasterT_Expand_PairwiseInter2,RISK_LAND,-1,-1;unique_id \"unique_id\" true true false 254 Text 0 0,First,#,RasterT_Expand_PairwiseInter2,unique_id,0,254;Shape_Length \"Shape_Length\" false true true 8 Double 0 0,First,#,RasterT_Expand_PairwiseInter2,Shape_Length,-1,-1;Shape_Area \"Shape_Area\" false true true 8 Double 0 0,First,#,RasterT_Expand_PairwiseInter2,Shape_Area,-1,-1',\n",
    "    sort_field=None\n",
    ")"
   ]
  },
  {
   "cell_type": "code",
   "execution_count": null,
   "metadata": {},
   "outputs": [],
   "source": [
    "out_raster = arcpy.sa.Expand(\n",
    "    in_raster=\"cities_subcity_air_pollution_25.tif\",\n",
    "    number_cells=2,\n",
    "    zone_values=[1,0],\n",
    "    expand_method=\"MORPHOLOGICAL\"\n",
    ")\n",
    "out_raster.save(r\"G:\\CASA\\ejen\\casa_project\\Default.gdb\\Expand_citie4\")"
   ]
  },
  {
   "cell_type": "code",
   "execution_count": null,
   "metadata": {},
   "outputs": [],
   "source": [
    "arcpy.conversion.RasterToPolygon(\n",
    "    in_raster=\"Expand_citie4\",\n",
    "    out_polygon_features=r\"G:\\CASA\\ejen\\casa_project\\Default.gdb\\RasterT_Expand_4\",\n",
    "    simplify=\"NO_SIMPLIFY\",\n",
    "    raster_field=\"Value\",\n",
    "    create_multipart_features=\"SINGLE_OUTER_PART\",\n",
    "    max_vertices_per_feature=None\n",
    ")"
   ]
  },
  {
   "cell_type": "code",
   "execution_count": null,
   "metadata": {},
   "outputs": [],
   "source": [
    "arcpy.analysis.PairwiseIntersect(\n",
    "    in_features=\"RasterT_Expand_4;cities_dataset_final\",\n",
    "    out_feature_class=r\"G:\\CASA\\ejen\\casa_project\\Default.gdb\\RasterT_Expand_PairwiseInter3\",\n",
    "    join_attributes=\"NO_FID\",\n",
    "    cluster_tolerance=None,\n",
    "    output_type=\"INPUT\"\n",
    ")"
   ]
  },
  {
   "cell_type": "code",
   "execution_count": null,
   "metadata": {},
   "outputs": [],
   "source": [
    "arcpy.conversion.ExportFeatures(\n",
    "    in_features=\"RasterT_Expand_PairwiseInter3\",\n",
    "    out_features=r\"G:\\CASA\\ejen\\Subcity Shapefiles\\Not cleaned\\subcity_airpollu_25.shp\",\n",
    "    where_clause=\"\",\n",
    "    use_field_alias_as_name=\"NOT_USE_ALIAS\",\n",
    "    field_mapping='Id \"Id\" true true false 4 Long 0 0,First,#,RasterT_Expand_PairwiseInter3,Id,-1,-1;gridcode \"gridcode\" true true false 4 Long 0 0,First,#,RasterT_Expand_PairwiseInter3,gridcode,-1,-1;ID_HDC_G0 \"ID_HDC_G0\" true true false 8 Double 0 0,First,#,RasterT_Expand_PairwiseInter3,ID_HDC_G0,-1,-1;UC_NM_MN \"UC_NM_MN\" true true false 80 Text 0 0,First,#,RasterT_Expand_PairwiseInter3,UC_NM_MN,0,80;UC_NM_LST \"UC_NM_LST\" true true false 254 Text 0 0,First,#,RasterT_Expand_PairwiseInter3,UC_NM_LST,0,254;CTR_MN_NM \"CTR_MN_NM\" true true false 80 Text 0 0,First,#,RasterT_Expand_PairwiseInter3,CTR_MN_NM,0,80;REG_GHSL \"REG_GHSL\" true true false 80 Text 0 0,First,#,RasterT_Expand_PairwiseInter3,REG_GHSL,0,80;REG_USAID \"REG_USAID\" true true false 80 Text 0 0,First,#,RasterT_Expand_PairwiseInter3,REG_USAID,0,80;IN_USAID \"IN_USAID\" true true false 8 Double 0 0,First,#,RasterT_Expand_PairwiseInter3,IN_USAID,-1,-1;P15 \"P15\" true true false 8 Double 0 0,First,#,RasterT_Expand_PairwiseInter3,P15,-1,-1;P20 \"P20\" true true false 8 Double 0 0,First,#,RasterT_Expand_PairwiseInter3,P20,-1,-1;P25 \"P25\" true true false 8 Double 0 0,First,#,RasterT_Expand_PairwiseInter3,P25,-1,-1;P20_25 \"P20_25\" true true false 8 Double 0 0,First,#,RasterT_Expand_PairwiseInter3,P20_25,-1,-1;P20_25_CAT \"P20_25_CAT\" true true false 80 Text 0 0,First,#,RasterT_Expand_PairwiseInter3,P20_25_CAT,0,80;P20_25_BIN \"P20_25_BIN\" true true false 8 Double 0 0,First,#,RasterT_Expand_PairwiseInter3,P20_25_BIN,-1,-1;P25_CAT \"P25_CAT\" true true false 80 Text 0 0,First,#,RasterT_Expand_PairwiseInter3,P25_CAT,0,80;P25_SMMED \"P25_SMMED\" true true false 8 Double 0 0,First,#,RasterT_Expand_PairwiseInter3,P25_SMMED,-1,-1;P_AGE_U15 \"P_AGE_U15\" true true false 8 Double 0 0,First,#,RasterT_Expand_PairwiseInter3,P_AGE_U15,-1,-1;P_AGE_65UP \"P_AGE_65UP\" true true false 8 Double 0 0,First,#,RasterT_Expand_PairwiseInter3,P_AGE_65UP,-1,-1;P_AGE_DEP \"P_AGE_DEP\" true true false 8 Double 0 0,First,#,RasterT_Expand_PairwiseInter3,P_AGE_DEP,-1,-1;GDP15 \"GDP15\" true true false 4 Long 0 0,First,#,RasterT_Expand_PairwiseInter3,GDP15,-1,-1;GDP15_PER \"GDP15_PER\" true true false 8 Double 0 0,First,#,RasterT_Expand_PairwiseInter3,GDP15_PER,-1,-1;P00_20 \"P00_20\" true true false 8 Double 0 0,First,#,RasterT_Expand_PairwiseInter3,P00_20,-1,-1;P00_20_MIG \"P00_20_MIG\" true true false 8 Double 0 0,First,#,RasterT_Expand_PairwiseInter3,P00_20_MIG,-1,-1;D_1M \"D_1M\" true true false 8 Double 0 0,First,#,RasterT_Expand_PairwiseInter3,D_1M,-1,-1;D_1M_NM \"D_1M_NM\" true true false 80 Text 0 0,First,#,RasterT_Expand_PairwiseInter3,D_1M_NM,0,80;D_500K \"D_500K\" true true false 8 Double 0 0,First,#,RasterT_Expand_PairwiseInter3,D_500K,-1,-1;D_500K_NM \"D_500K_NM\" true true false 80 Text 0 0,First,#,RasterT_Expand_PairwiseInter3,D_500K_NM,0,80;L_DRY \"L_DRY\" true true false 8 Double 0 0,First,#,RasterT_Expand_PairwiseInter3,L_DRY,-1,-1;L_COAST \"L_COAST\" true true false 8 Double 0 0,First,#,RasterT_Expand_PairwiseInter3,L_COAST,-1,-1;L_ELEV \"L_ELEV\" true true false 8 Double 0 0,First,#,RasterT_Expand_PairwiseInter3,L_ELEV,-1,-1;RISK_TEMP_ \"RISK_TEMP_\" true true false 8 Double 0 0,First,#,RasterT_Expand_PairwiseInter3,RISK_TEMP_,-1,-1;RISK_WBGT_ \"RISK_WBGT_\" true true false 8 Double 0 0,First,#,RasterT_Expand_PairwiseInter3,RISK_WBGT_,-1,-1;RISK_TEMP \"RISK_TEMP\" true true false 8 Double 0 0,First,#,RasterT_Expand_PairwiseInter3,RISK_TEMP,-1,-1;RISK_WBGT \"RISK_WBGT\" true true false 8 Double 0 0,First,#,RasterT_Expand_PairwiseInter3,RISK_WBGT,-1,-1;RISK_SCAR \"RISK_SCAR\" true true false 8 Double 0 0,First,#,RasterT_Expand_PairwiseInter3,RISK_SCAR,-1,-1;RISK_RIVR_ \"RISK_RIVR_\" true true false 8 Double 0 0,First,#,RasterT_Expand_PairwiseInter3,RISK_RIVR_,-1,-1;RISK_RIVR \"RISK_RIVR\" true true false 8 Double 0 0,First,#,RasterT_Expand_PairwiseInter3,RISK_RIVR,-1,-1;RISK_SURG_ \"RISK_SURG_\" true true false 8 Double 0 0,First,#,RasterT_Expand_PairwiseInter3,RISK_SURG_,-1,-1;RISK_SURG \"RISK_SURG\" true true false 8 Double 0 0,First,#,RasterT_Expand_PairwiseInter3,RISK_SURG,-1,-1;RISK_CYC1 \"RISK_CYC1\" true true false 8 Double 0 0,First,#,RasterT_Expand_PairwiseInter3,RISK_CYC1,-1,-1;RISK_CYC2 \"RISK_CYC2\" true true false 8 Double 0 0,First,#,RasterT_Expand_PairwiseInter3,RISK_CYC2,-1,-1;RISK_LAND \"RISK_LAND\" true true false 8 Double 0 0,First,#,RasterT_Expand_PairwiseInter3,RISK_LAND,-1,-1;unique_id \"unique_id\" true true false 254 Text 0 0,First,#,RasterT_Expand_PairwiseInter3,unique_id,0,254;Shape_Length \"Shape_Length\" false true true 8 Double 0 0,First,#,RasterT_Expand_PairwiseInter3,Shape_Length,-1,-1;Shape_Area \"Shape_Area\" false true true 8 Double 0 0,First,#,RasterT_Expand_PairwiseInter3,Shape_Area,-1,-1',\n",
    "    sort_field=None\n",
    ")"
   ]
  },
  {
   "cell_type": "code",
   "execution_count": null,
   "metadata": {},
   "outputs": [],
   "source": [
    "out_raster = arcpy.sa.Expand(\n",
    "    in_raster=\"cities_subcity_air_pollution_35.tif\",\n",
    "    number_cells=2,\n",
    "    zone_values=[1,0],\n",
    "    expand_method=\"MORPHOLOGICAL\"\n",
    ")\n",
    "out_raster.save(r\"G:\\CASA\\ejen\\casa_project\\Default.gdb\\Expand_citie5\")"
   ]
  },
  {
   "cell_type": "code",
   "execution_count": null,
   "metadata": {},
   "outputs": [],
   "source": [
    "arcpy.conversion.RasterToPolygon(\n",
    "    in_raster=\"Expand_citie5\",\n",
    "    out_polygon_features=r\"G:\\CASA\\ejen\\casa_project\\Default.gdb\\RasterT_Expand_5\",\n",
    "    simplify=\"NO_SIMPLIFY\",\n",
    "    raster_field=\"Value\",\n",
    "    create_multipart_features=\"SINGLE_OUTER_PART\",\n",
    "    max_vertices_per_feature=None\n",
    ")"
   ]
  },
  {
   "cell_type": "code",
   "execution_count": null,
   "metadata": {},
   "outputs": [],
   "source": [
    "arcpy.analysis.PairwiseIntersect(\n",
    "    in_features=\"RasterT_Expand_5;cities_dataset_final\",\n",
    "    out_feature_class=r\"G:\\CASA\\ejen\\casa_project\\Default.gdb\\RasterT_Expand_PairwiseInter4\",\n",
    "    join_attributes=\"NO_FID\",\n",
    "    cluster_tolerance=None,\n",
    "    output_type=\"INPUT\"\n",
    ")"
   ]
  },
  {
   "cell_type": "code",
   "execution_count": null,
   "metadata": {},
   "outputs": [],
   "source": [
    "arcpy.conversion.ExportFeatures(\n",
    "    in_features=\"RasterT_Expand_PairwiseInter4\",\n",
    "    out_features=r\"G:\\CASA\\ejen\\Subcity Shapefiles\\Not cleaned\\subcity_airpollu_35.shp\",\n",
    "    where_clause=\"\",\n",
    "    use_field_alias_as_name=\"NOT_USE_ALIAS\",\n",
    "    field_mapping='Id \"Id\" true true false 4 Long 0 0,First,#,RasterT_Expand_PairwiseInter4,Id,-1,-1;gridcode \"gridcode\" true true false 4 Long 0 0,First,#,RasterT_Expand_PairwiseInter4,gridcode,-1,-1;ID_HDC_G0 \"ID_HDC_G0\" true true false 8 Double 0 0,First,#,RasterT_Expand_PairwiseInter4,ID_HDC_G0,-1,-1;UC_NM_MN \"UC_NM_MN\" true true false 80 Text 0 0,First,#,RasterT_Expand_PairwiseInter4,UC_NM_MN,0,80;UC_NM_LST \"UC_NM_LST\" true true false 254 Text 0 0,First,#,RasterT_Expand_PairwiseInter4,UC_NM_LST,0,254;CTR_MN_NM \"CTR_MN_NM\" true true false 80 Text 0 0,First,#,RasterT_Expand_PairwiseInter4,CTR_MN_NM,0,80;REG_GHSL \"REG_GHSL\" true true false 80 Text 0 0,First,#,RasterT_Expand_PairwiseInter4,REG_GHSL,0,80;REG_USAID \"REG_USAID\" true true false 80 Text 0 0,First,#,RasterT_Expand_PairwiseInter4,REG_USAID,0,80;IN_USAID \"IN_USAID\" true true false 8 Double 0 0,First,#,RasterT_Expand_PairwiseInter4,IN_USAID,-1,-1;P15 \"P15\" true true false 8 Double 0 0,First,#,RasterT_Expand_PairwiseInter4,P15,-1,-1;P20 \"P20\" true true false 8 Double 0 0,First,#,RasterT_Expand_PairwiseInter4,P20,-1,-1;P25 \"P25\" true true false 8 Double 0 0,First,#,RasterT_Expand_PairwiseInter4,P25,-1,-1;P20_25 \"P20_25\" true true false 8 Double 0 0,First,#,RasterT_Expand_PairwiseInter4,P20_25,-1,-1;P20_25_CAT \"P20_25_CAT\" true true false 80 Text 0 0,First,#,RasterT_Expand_PairwiseInter4,P20_25_CAT,0,80;P20_25_BIN \"P20_25_BIN\" true true false 8 Double 0 0,First,#,RasterT_Expand_PairwiseInter4,P20_25_BIN,-1,-1;P25_CAT \"P25_CAT\" true true false 80 Text 0 0,First,#,RasterT_Expand_PairwiseInter4,P25_CAT,0,80;P25_SMMED \"P25_SMMED\" true true false 8 Double 0 0,First,#,RasterT_Expand_PairwiseInter4,P25_SMMED,-1,-1;P_AGE_U15 \"P_AGE_U15\" true true false 8 Double 0 0,First,#,RasterT_Expand_PairwiseInter4,P_AGE_U15,-1,-1;P_AGE_65UP \"P_AGE_65UP\" true true false 8 Double 0 0,First,#,RasterT_Expand_PairwiseInter4,P_AGE_65UP,-1,-1;P_AGE_DEP \"P_AGE_DEP\" true true false 8 Double 0 0,First,#,RasterT_Expand_PairwiseInter4,P_AGE_DEP,-1,-1;GDP15 \"GDP15\" true true false 4 Long 0 0,First,#,RasterT_Expand_PairwiseInter4,GDP15,-1,-1;GDP15_PER \"GDP15_PER\" true true false 8 Double 0 0,First,#,RasterT_Expand_PairwiseInter4,GDP15_PER,-1,-1;P00_20 \"P00_20\" true true false 8 Double 0 0,First,#,RasterT_Expand_PairwiseInter4,P00_20,-1,-1;P00_20_MIG \"P00_20_MIG\" true true false 8 Double 0 0,First,#,RasterT_Expand_PairwiseInter4,P00_20_MIG,-1,-1;D_1M \"D_1M\" true true false 8 Double 0 0,First,#,RasterT_Expand_PairwiseInter4,D_1M,-1,-1;D_1M_NM \"D_1M_NM\" true true false 80 Text 0 0,First,#,RasterT_Expand_PairwiseInter4,D_1M_NM,0,80;D_500K \"D_500K\" true true false 8 Double 0 0,First,#,RasterT_Expand_PairwiseInter4,D_500K,-1,-1;D_500K_NM \"D_500K_NM\" true true false 80 Text 0 0,First,#,RasterT_Expand_PairwiseInter4,D_500K_NM,0,80;L_DRY \"L_DRY\" true true false 8 Double 0 0,First,#,RasterT_Expand_PairwiseInter4,L_DRY,-1,-1;L_COAST \"L_COAST\" true true false 8 Double 0 0,First,#,RasterT_Expand_PairwiseInter4,L_COAST,-1,-1;L_ELEV \"L_ELEV\" true true false 8 Double 0 0,First,#,RasterT_Expand_PairwiseInter4,L_ELEV,-1,-1;RISK_TEMP_ \"RISK_TEMP_\" true true false 8 Double 0 0,First,#,RasterT_Expand_PairwiseInter4,RISK_TEMP_,-1,-1;RISK_WBGT_ \"RISK_WBGT_\" true true false 8 Double 0 0,First,#,RasterT_Expand_PairwiseInter4,RISK_WBGT_,-1,-1;RISK_TEMP \"RISK_TEMP\" true true false 8 Double 0 0,First,#,RasterT_Expand_PairwiseInter4,RISK_TEMP,-1,-1;RISK_WBGT \"RISK_WBGT\" true true false 8 Double 0 0,First,#,RasterT_Expand_PairwiseInter4,RISK_WBGT,-1,-1;RISK_SCAR \"RISK_SCAR\" true true false 8 Double 0 0,First,#,RasterT_Expand_PairwiseInter4,RISK_SCAR,-1,-1;RISK_RIVR_ \"RISK_RIVR_\" true true false 8 Double 0 0,First,#,RasterT_Expand_PairwiseInter4,RISK_RIVR_,-1,-1;RISK_RIVR \"RISK_RIVR\" true true false 8 Double 0 0,First,#,RasterT_Expand_PairwiseInter4,RISK_RIVR,-1,-1;RISK_SURG_ \"RISK_SURG_\" true true false 8 Double 0 0,First,#,RasterT_Expand_PairwiseInter4,RISK_SURG_,-1,-1;RISK_SURG \"RISK_SURG\" true true false 8 Double 0 0,First,#,RasterT_Expand_PairwiseInter4,RISK_SURG,-1,-1;RISK_CYC1 \"RISK_CYC1\" true true false 8 Double 0 0,First,#,RasterT_Expand_PairwiseInter4,RISK_CYC1,-1,-1;RISK_CYC2 \"RISK_CYC2\" true true false 8 Double 0 0,First,#,RasterT_Expand_PairwiseInter4,RISK_CYC2,-1,-1;RISK_LAND \"RISK_LAND\" true true false 8 Double 0 0,First,#,RasterT_Expand_PairwiseInter4,RISK_LAND,-1,-1;unique_id \"unique_id\" true true false 254 Text 0 0,First,#,RasterT_Expand_PairwiseInter4,unique_id,0,254;Shape_Length \"Shape_Length\" false true true 8 Double 0 0,First,#,RasterT_Expand_PairwiseInter4,Shape_Length,-1,-1;Shape_Area \"Shape_Area\" false true true 8 Double 0 0,First,#,RasterT_Expand_PairwiseInter4,Shape_Area,-1,-1',\n",
    "    sort_field=None\n",
    ")"
   ]
  }
 ],
 "metadata": {
  "kernelspec": {
   "display_name": "Python 3",
   "language": "python",
   "name": "python3"
  },
  "language_info": {
   "codemirror_mode": {
    "name": "ipython",
    "version": 3
   },
   "file_extension": ".py",
   "mimetype": "text/x-python",
   "name": "python",
   "nbconvert_exporter": "python",
   "pygments_lexer": "ipython3",
   "version": "3.9.16"
  },
  "orig_nbformat": 4
 },
 "nbformat": 4,
 "nbformat_minor": 2
}
