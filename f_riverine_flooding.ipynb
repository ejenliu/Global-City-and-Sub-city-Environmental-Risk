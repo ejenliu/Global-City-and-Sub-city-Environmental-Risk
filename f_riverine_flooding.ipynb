{
 "cells": [
  {
   "attachments": {},
   "cell_type": "markdown",
   "metadata": {},
   "source": [
    "Resampled Flood Rivering Raster to match GHS Pop Raster"
   ]
  },
  {
   "cell_type": "code",
   "execution_count": null,
   "metadata": {},
   "outputs": [],
   "source": [
    "import arcpy \n",
    "import os"
   ]
  },
  {
   "cell_type": "code",
   "execution_count": null,
   "metadata": {},
   "outputs": [],
   "source": [
    "#Read in raw file for population and flood\n",
    "GHSPOP = r\"G:\\CASA\\data\\GHS_POP_E2025_GLOBE_R2023A_4326_3ss_V1_0-003.tif\"\n",
    "flood_tif = r\"G:\\CASA\\ejen\\Future Riverine Flooding\\floodMapGL_rp100y.tif\"\n",
    "flood_rasampled = r\"G:\\CASA\\ejen\\Future Riverine Flooding\\floodMapGL_rp100y_resampled.tif\"\n"
   ]
  },
  {
   "cell_type": "code",
   "execution_count": null,
   "metadata": {},
   "outputs": [],
   "source": [
    "#Resample to match resolution of population raster and flood raster\n",
    "arcpy.env.outputCoordinateSystem='GEOGCS[\"GCS_WGS_1984\",DATUM[\"D_WGS_1984\",SPHEROID[\"WGS_1984\",6378137.0,298.257223563]],PRIMEM[\"Greenwich\",0.0],UNIT[\"Degree\",0.0174532925199433]]' \n",
    "arcpy.env.snapRaster=GHSPOP\n",
    "arcpy.management.Resample(\n",
    "    in_raster= flood_tif,\n",
    "    out_raster=flood_rasampled,\n",
    "    cell_size=GHSPOP,\n",
    "    resampling_type=\"NEAREST\"\n",
    ")"
   ]
  },
  {
   "attachments": {},
   "cell_type": "markdown",
   "metadata": {},
   "source": [
    "Mask Population Raster with the flood mask to keep Pop values only where flood data is present"
   ]
  },
  {
   "cell_type": "code",
   "execution_count": null,
   "metadata": {},
   "outputs": [],
   "source": [
    "GHSPOP_riverine = r\"D:\\JFM_tests\\CASA\\GHSPop_2025_maskedRiverine.tif\"\n",
    "arcpy.env.outputCoordinateSystem='GEOGCS[\"GCS_WGS_1984\",DATUM[\"D_WGS_1984\",SPHEROID[\"WGS_1984\",6378137.0,298.257223563]],PRIMEM[\"Greenwich\",0.0],UNIT[\"Degree\",0.0174532925199433]]'\n",
    "arcpy.env.snapRaster=GHSPOP\n",
    "arcpy.env.cellSize=GHSPOP\n",
    "out_raster = arcpy.sa.ExtractByMask(\n",
    "    in_raster=GHSPOP,\n",
    "    in_mask_data=flood_rasampled,\n",
    "    extraction_area=\"INSIDE\",\n",
    "    analysis_extent=GHSPOP\n",
    ")\n",
    "out_raster.save(GHSPOP_riverine)"
   ]
  }
 ],
 "metadata": {
  "language_info": {
   "name": "python"
  },
  "orig_nbformat": 4
 },
 "nbformat": 4,
 "nbformat_minor": 2
}
