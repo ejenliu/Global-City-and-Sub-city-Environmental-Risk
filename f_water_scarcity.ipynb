{
 "cells": [
  {
   "cell_type": "code",
   "execution_count": 1,
   "metadata": {},
   "outputs": [],
   "source": [
    "import arcpy\n",
    "import os"
   ]
  },
  {
   "cell_type": "code",
   "execution_count": null,
   "metadata": {},
   "outputs": [],
   "source": [
    "#Load catchment shapefile and table\n",
    "catchments_shp = r\"G:\\CASA\\data\\urban water scarcity\\Supplementary Data\\Shapefiles\\Global_catchments_shp\\Catchments.shp\"\n",
    "scenarios_csv = r\"G:\\CASA\\output_tables\\WSI_2050_SSPs&RCPs.csv\""
   ]
  },
  {
   "cell_type": "code",
   "execution_count": null,
   "metadata": {},
   "outputs": [],
   "source": [
    "#Join table attributes to catchment polygons\n",
    "arcpy.management.AddJoin(\n",
    "    in_layer_or_view=catchments_shp,\n",
    "    in_field=\"pfaf_id\",\n",
    "    join_table=scenarios_csv,\n",
    "    join_field=\"pfaf_id\",\n",
    "    join_type=\"KEEP_ALL\",\n",
    "    index_join_fields=\"NO_INDEX_JOIN_FIELDS\"\n",
    ")"
   ]
  },
  {
   "cell_type": "code",
   "execution_count": 2,
   "metadata": {},
   "outputs": [],
   "source": [
    "#Read catchments and cities_dataset files\n",
    "global_catchments = r\"G:\\CASA\\output_shapefiles\\CASA_waterScarcity_Catchments.shp\"\n",
    "cities_dataset = r\"G:\\CASA\\ejen\\cities_dataset.gpkg\""
   ]
  },
  {
   "cell_type": "code",
   "execution_count": 14,
   "metadata": {},
   "outputs": [],
   "source": [
    "#Extract cities_dataset shapefile from geopackage\n",
    "arcpy.env.workspace = cities_dataset\n",
    "datasets = arcpy.ListFeatureClasses()\n",
    "cities_dataset_feature = f\"{cities_dataset}\\{datasets[0]}\""
   ]
  },
  {
   "cell_type": "code",
   "execution_count": 16,
   "metadata": {},
   "outputs": [
    {
     "data": {
      "text/html": [
       "<div class='gpresult'><h2>Messages</h2><div id='messages' data-messages='[\"Start Time: Thursday, June 27, 2024 2:42:21 PM\",\"Reading Features...\",\"Cracking Features...\",\"Assembling Features...\",\"WARNING 001003: Datum conflict between input and output.\",\"Succeeded at Thursday, June 27, 2024 2:43:35 PM (Elapsed Time: 1 minutes 14 seconds)\"]' data-show='true'><div id = 'default' /></div></div>"
      ],
      "text/plain": [
       "<Result 'G:\\\\CASA\\\\output_shapefiles\\\\cities_catchments_join.shp'>"
      ]
     },
     "execution_count": 16,
     "metadata": {},
     "output_type": "execute_result"
    }
   ],
   "source": [
    "#Perform spatial join between city and catchment polygons in arcpy to identify all catchments that intersect with each city polygon\n",
    "#Intersect city and catchment polygons and save output\n",
    "output_intersect = r\"G:\\CASA\\output_shapefiles\\cities_catchments_join.shp\"\n",
    "arcpy.analysis.Intersect([global_catchments, cities_dataset_feature], output_intersect, \"ALL\")"
   ]
  }
 ],
 "metadata": {
  "kernelspec": {
   "display_name": "Python 3",
   "language": "python",
   "name": "python3"
  },
  "language_info": {
   "codemirror_mode": {
    "name": "ipython",
    "version": 3
   },
   "file_extension": ".py",
   "mimetype": "text/x-python",
   "name": "python",
   "nbconvert_exporter": "python",
   "pygments_lexer": "ipython3",
   "version": "3.9.16"
  },
  "orig_nbformat": 4
 },
 "nbformat": 4,
 "nbformat_minor": 2
}
