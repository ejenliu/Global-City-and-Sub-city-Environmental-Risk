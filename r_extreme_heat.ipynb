{
 "cells": [
  {
   "cell_type": "code",
   "execution_count": 58,
   "metadata": {},
   "outputs": [],
   "source": [
    "import arcpy\n",
    "import os"
   ]
  },
  {
   "cell_type": "code",
   "execution_count": null,
   "metadata": {},
   "outputs": [],
   "source": [
    "#Transform WSDI raster into vector polygons"
   ]
  },
  {
   "cell_type": "code",
   "execution_count": null,
   "metadata": {},
   "outputs": [],
   "source": [
    "#Convert raster values from float to integer\n",
    "output_raster = arcpy.sa.RasterCalculator(\n",
    "    expression='Int(\"subcity_wsdi.tif\")'\n",
    ")\n",
    "output_raster.save(r\"c:\\users\\ejenliu\\documents\\arcgis\\projects\\myproject1\\myproject1.gdb\\int_rasterca\")"
   ]
  },
  {
   "cell_type": "code",
   "execution_count": null,
   "metadata": {},
   "outputs": [],
   "source": [
    "#Convert from raster to polygon\n",
    "with arcpy.EnvManager(outputZFlag=\"Disabled\", outputMFlag=\"Disabled\"):\n",
    "    arcpy.conversion.RasterToPolygon(\n",
    "        in_raster=\"int_rasterca\",\n",
    "        out_polygon_features=r\"C:\\Users\\ejenliu\\Documents\\ArcGIS\\Projects\\MyProject1\\MyProject1.gdb\\RasterT_int_ras1\",\n",
    "        simplify=\"NO_SIMPLIFY\",\n",
    "        raster_field=\"Value\",\n",
    "        create_multipart_features=\"SINGLE_OUTER_PART\",\n",
    "        max_vertices_per_feature=None\n",
    "    )"
   ]
  },
  {
   "cell_type": "code",
   "execution_count": null,
   "metadata": {},
   "outputs": [],
   "source": [
    "#Intersect WSDI and city polygons\n",
    "arcpy.analysis.Intersect(\n",
    "    in_features=\"RasterT_int_ras3 #;cities_dataset_final #\",\n",
    "    out_feature_class=r\"C:\\Users\\ejenliu\\Documents\\ArcGIS\\Projects\\MyProject1\\myproject1.gdb\\RasterT_int_ras3_Intersect\",\n",
    "    join_attributes=\"ALL\",\n",
    "    cluster_tolerance=None,\n",
    "    output_type=\"INPUT\"\n",
    ")"
   ]
  },
  {
   "cell_type": "code",
   "execution_count": null,
   "metadata": {},
   "outputs": [],
   "source": [
    "#Save as shapefile\n",
    "arcpy.conversion.ExportFeatures(\n",
    "    in_features=\"RasterT_int_ras3_Intersect\",\n",
    "    out_features=r\"G:\\CASA\\ejen\\Subcity Shapefiles\\Not cleaned\\wsdi_intersect.shp\",\n",
    "    where_clause=\"\",\n",
    "    use_field_alias_as_name=\"NOT_USE_ALIAS\",\n",
    "    field_mapping='FID_RasterT_int_ras3 \"FID_RasterT_int_ras3\" true true false 4 Long 0 0,First,#,RasterT_int_ras3_Intersect,FID_RasterT_int_ras3,-1,-1;Id \"Id\" true true false 4 Long 0 0,First,#,RasterT_int_ras3_Intersect,Id,-1,-1;gridcode \"gridcode\" true true false 4 Long 0 0,First,#,RasterT_int_ras3_Intersect,gridcode,-1,-1;FID_cities_dataset_final \"FID_cities_dataset_final\" true true false 4 Long 0 0,First,#,RasterT_int_ras3_Intersect,FID_cities_dataset_final,-1,-1;ID_HDC_G0 \"ID_HDC_G0\" true true false 8 Double 0 0,First,#,RasterT_int_ras3_Intersect,ID_HDC_G0,-1,-1;UC_NM_MN \"UC_NM_MN\" true true false 80 Text 0 0,First,#,RasterT_int_ras3_Intersect,UC_NM_MN,0,80;UC_NM_LST \"UC_NM_LST\" true true false 254 Text 0 0,First,#,RasterT_int_ras3_Intersect,UC_NM_LST,0,254;CTR_MN_NM \"CTR_MN_NM\" true true false 80 Text 0 0,First,#,RasterT_int_ras3_Intersect,CTR_MN_NM,0,80;REG_GHSL \"REG_GHSL\" true true false 80 Text 0 0,First,#,RasterT_int_ras3_Intersect,REG_GHSL,0,80;REG_USAID \"REG_USAID\" true true false 80 Text 0 0,First,#,RasterT_int_ras3_Intersect,REG_USAID,0,80;IN_USAID \"IN_USAID\" true true false 8 Double 0 0,First,#,RasterT_int_ras3_Intersect,IN_USAID,-1,-1;P15 \"P15\" true true false 8 Double 0 0,First,#,RasterT_int_ras3_Intersect,P15,-1,-1;P20 \"P20\" true true false 8 Double 0 0,First,#,RasterT_int_ras3_Intersect,P20,-1,-1;P25 \"P25\" true true false 8 Double 0 0,First,#,RasterT_int_ras3_Intersect,P25,-1,-1;P20_25 \"P20_25\" true true false 8 Double 0 0,First,#,RasterT_int_ras3_Intersect,P20_25,-1,-1;P20_25_CAT \"P20_25_CAT\" true true false 80 Text 0 0,First,#,RasterT_int_ras3_Intersect,P20_25_CAT,0,80;P20_25_BIN \"P20_25_BIN\" true true false 8 Double 0 0,First,#,RasterT_int_ras3_Intersect,P20_25_BIN,-1,-1;P25_CAT \"P25_CAT\" true true false 80 Text 0 0,First,#,RasterT_int_ras3_Intersect,P25_CAT,0,80;P25_SMMED \"P25_SMMED\" true true false 8 Double 0 0,First,#,RasterT_int_ras3_Intersect,P25_SMMED,-1,-1;P_AGE_U15 \"P_AGE_U15\" true true false 8 Double 0 0,First,#,RasterT_int_ras3_Intersect,P_AGE_U15,-1,-1;P_AGE_65UP \"P_AGE_65UP\" true true false 8 Double 0 0,First,#,RasterT_int_ras3_Intersect,P_AGE_65UP,-1,-1;P_AGE_DEP \"P_AGE_DEP\" true true false 8 Double 0 0,First,#,RasterT_int_ras3_Intersect,P_AGE_DEP,-1,-1;GDP15 \"GDP15\" true true false 4 Long 0 0,First,#,RasterT_int_ras3_Intersect,GDP15,-1,-1;GDP15_PER \"GDP15_PER\" true true false 8 Double 0 0,First,#,RasterT_int_ras3_Intersect,GDP15_PER,-1,-1;P00_20 \"P00_20\" true true false 8 Double 0 0,First,#,RasterT_int_ras3_Intersect,P00_20,-1,-1;P00_20_MIG \"P00_20_MIG\" true true false 8 Double 0 0,First,#,RasterT_int_ras3_Intersect,P00_20_MIG,-1,-1;D_1M \"D_1M\" true true false 8 Double 0 0,First,#,RasterT_int_ras3_Intersect,D_1M,-1,-1;D_1M_NM \"D_1M_NM\" true true false 80 Text 0 0,First,#,RasterT_int_ras3_Intersect,D_1M_NM,0,80;D_500K \"D_500K\" true true false 8 Double 0 0,First,#,RasterT_int_ras3_Intersect,D_500K,-1,-1;D_500K_NM \"D_500K_NM\" true true false 80 Text 0 0,First,#,RasterT_int_ras3_Intersect,D_500K_NM,0,80;L_DRY \"L_DRY\" true true false 8 Double 0 0,First,#,RasterT_int_ras3_Intersect,L_DRY,-1,-1;L_COAST \"L_COAST\" true true false 8 Double 0 0,First,#,RasterT_int_ras3_Intersect,L_COAST,-1,-1;L_ELEV \"L_ELEV\" true true false 8 Double 0 0,First,#,RasterT_int_ras3_Intersect,L_ELEV,-1,-1;RISK_TEMP_ \"RISK_TEMP_\" true true false 8 Double 0 0,First,#,RasterT_int_ras3_Intersect,RISK_TEMP_,-1,-1;RISK_WBGT_ \"RISK_WBGT_\" true true false 8 Double 0 0,First,#,RasterT_int_ras3_Intersect,RISK_WBGT_,-1,-1;RISK_TEMP \"RISK_TEMP\" true true false 8 Double 0 0,First,#,RasterT_int_ras3_Intersect,RISK_TEMP,-1,-1;RISK_WBGT \"RISK_WBGT\" true true false 8 Double 0 0,First,#,RasterT_int_ras3_Intersect,RISK_WBGT,-1,-1;RISK_SCAR \"RISK_SCAR\" true true false 8 Double 0 0,First,#,RasterT_int_ras3_Intersect,RISK_SCAR,-1,-1;RISK_RIVR_ \"RISK_RIVR_\" true true false 8 Double 0 0,First,#,RasterT_int_ras3_Intersect,RISK_RIVR_,-1,-1;RISK_RIVR \"RISK_RIVR\" true true false 8 Double 0 0,First,#,RasterT_int_ras3_Intersect,RISK_RIVR,-1,-1;RISK_SURG_ \"RISK_SURG_\" true true false 8 Double 0 0,First,#,RasterT_int_ras3_Intersect,RISK_SURG_,-1,-1;RISK_SURG \"RISK_SURG\" true true false 8 Double 0 0,First,#,RasterT_int_ras3_Intersect,RISK_SURG,-1,-1;RISK_CYC1 \"RISK_CYC1\" true true false 8 Double 0 0,First,#,RasterT_int_ras3_Intersect,RISK_CYC1,-1,-1;RISK_CYC2 \"RISK_CYC2\" true true false 8 Double 0 0,First,#,RasterT_int_ras3_Intersect,RISK_CYC2,-1,-1;RISK_LAND \"RISK_LAND\" true true false 8 Double 0 0,First,#,RasterT_int_ras3_Intersect,RISK_LAND,-1,-1;unique_id \"unique_id\" true true false 254 Text 0 0,First,#,RasterT_int_ras3_Intersect,unique_id,0,254;Shape_Length \"Shape_Length\" false true true 8 Double 0 0,First,#,RasterT_int_ras3_Intersect,Shape_Length,-1,-1;Shape_Area \"Shape_Area\" false true true 8 Double 0 0,First,#,RasterT_int_ras3_Intersect,Shape_Area,-1,-1',\n",
    "    sort_field=None\n",
    ")"
   ]
  }
 ],
 "metadata": {
  "language_info": {
   "name": "python"
  },
  "orig_nbformat": 4
 },
 "nbformat": 4,
 "nbformat_minor": 2
}
