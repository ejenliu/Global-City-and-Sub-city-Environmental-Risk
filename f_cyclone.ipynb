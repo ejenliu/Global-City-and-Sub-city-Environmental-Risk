{
 "cells": [
  {
   "cell_type": "code",
   "execution_count": 38,
   "metadata": {},
   "outputs": [],
   "source": [
    "from osgeo import gdal\n",
    "import numpy as np\n",
    "import os"
   ]
  },
  {
   "cell_type": "code",
   "execution_count": 39,
   "metadata": {},
   "outputs": [],
   "source": [
    "# Convert m/s to km/h\n",
    "def ms_to_kmh(ms_value):\n",
    "    return ms_value * 3.6  # 1 m/s = 3.6 km/h"
   ]
  },
  {
   "cell_type": "code",
   "execution_count": 37,
   "metadata": {},
   "outputs": [],
   "source": [
    "#Create list containing all future cyclone raw files\n",
    "tif_list = [r\"G:\\CASA\\data\\cyclone_fabien_simona\\geotiff\\2050_ssp245_CRH_RP100.tif\", r\"G:\\CASA\\data\\cyclone_fabien_simona\\geotiff\\2050_ssp245_CRH_RP200.tif\", r\"G:\\CASA\\data\\cyclone_fabien_simona\\geotiff\\2050_ssp245_SD_RP100.tif\", r\"G:\\CASA\\data\\cyclone_fabien_simona\\geotiff\\2050_ssp245_SD_RP200.tif\"]"
   ]
  },
  {
   "cell_type": "code",
   "execution_count": 46,
   "metadata": {},
   "outputs": [
    {
     "name": "stdout",
     "output_type": "stream",
     "text": [
      "Converted G:\\CASA\\data\\cyclone_fabien_simona\\geotiff\\2050_ssp245_CRH_RP100.tif and saved as G:\\CASA\\data\\cyclone_fabien_simona\\geotiff\\2050_ssp245_CRH_RP100_kmh.tif\n",
      "Converted G:\\CASA\\data\\cyclone_fabien_simona\\geotiff\\2050_ssp245_CRH_RP200.tif and saved as G:\\CASA\\data\\cyclone_fabien_simona\\geotiff\\2050_ssp245_CRH_RP200_kmh.tif\n",
      "Converted G:\\CASA\\data\\cyclone_fabien_simona\\geotiff\\2050_ssp245_SD_RP100.tif and saved as G:\\CASA\\data\\cyclone_fabien_simona\\geotiff\\2050_ssp245_SD_RP100_kmh.tif\n",
      "Converted G:\\CASA\\data\\cyclone_fabien_simona\\geotiff\\2050_ssp245_SD_RP200.tif and saved as G:\\CASA\\data\\cyclone_fabien_simona\\geotiff\\2050_ssp245_SD_RP200_kmh.tif\n"
     ]
    }
   ],
   "source": [
    "#Iterate through files and convert from m/s to km/h\n",
    "for tif_path in tif_list:\n",
    "    try:\n",
    "        # Open the TIFF file\n",
    "        ds = gdal.Open(tif_path, gdal.GA_ReadOnly)\n",
    "        if ds is None:\n",
    "            print(f'Failed to open {tif_path}')\n",
    "            continue\n",
    "\n",
    "        # Get raster band\n",
    "        band = ds.GetRasterBand(1)\n",
    "\n",
    "        # Read raster data as numeric array\n",
    "        raster_array = band.ReadAsArray().astype(np.float32)\n",
    "\n",
    "        # Convert each cell value from m/s to km/h\n",
    "        raster_array_kmh = ms_to_kmh(raster_array)\n",
    "\n",
    "        # Prepare output file path\n",
    "        output_tif = tif_path[:-4] + '_kmh.tif' \n",
    "        \n",
    "        # Create a new GeoTIFF file\n",
    "        driver = gdal.GetDriverByName('GTiff')\n",
    "        out_ds = driver.Create(output_tif, ds.RasterXSize, ds.RasterYSize, 1, band.DataType)\n",
    "\n",
    "        if out_ds is None:\n",
    "            print(f'Could not create {output_tif}')\n",
    "            continue\n",
    "\n",
    "        # Write the array data to the new GeoTIFF file\n",
    "        out_band = out_ds.GetRasterBand(1)\n",
    "        out_band.WriteArray(raster_array_kmh)\n",
    "\n",
    "        # Set the projection and geotransform\n",
    "        out_ds.SetProjection(ds.GetProjection())\n",
    "        out_ds.SetGeoTransform(ds.GetGeoTransform())\n",
    "\n",
    "        # Close files\n",
    "        out_band = None\n",
    "        out_ds = None\n",
    "        ds = None\n",
    "\n",
    "        print(f'Converted {tif_path} and saved as {output_tif}')\n",
    "\n",
    "    except Exception as e:\n",
    "        print(f'Error processing {tif_path}: {str(e)}')\n"
   ]
  }
 ],
 "metadata": {
  "kernelspec": {
   "display_name": "Python 3",
   "language": "python",
   "name": "python3"
  },
  "language_info": {
   "codemirror_mode": {
    "name": "ipython",
    "version": 3
   },
   "file_extension": ".py",
   "mimetype": "text/x-python",
   "name": "python",
   "nbconvert_exporter": "python",
   "pygments_lexer": "ipython3",
   "version": "3.9.16"
  },
  "orig_nbformat": 4
 },
 "nbformat": 4,
 "nbformat_minor": 2
}
